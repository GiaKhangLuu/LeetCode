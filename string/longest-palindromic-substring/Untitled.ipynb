{
 "cells": [
  {
   "cell_type": "code",
   "execution_count": 13,
   "id": "9ea1d8bb",
   "metadata": {},
   "outputs": [],
   "source": [
    "s = 'abcdef'\n",
    "\n",
    "d = dict()"
   ]
  },
  {
   "cell_type": "code",
   "execution_count": 2,
   "id": "67a362c1",
   "metadata": {},
   "outputs": [
    {
     "name": "stdout",
     "output_type": "stream",
     "text": [
      "a\n",
      "b\n",
      "c\n",
      "d\n",
      "e\n",
      "f\n"
     ]
    }
   ],
   "source": [
    "for i in s:\n",
    "    print(i)"
   ]
  },
  {
   "cell_type": "code",
   "execution_count": 14,
   "id": "9ff27b6e",
   "metadata": {},
   "outputs": [],
   "source": [
    "d[s[0]] = []"
   ]
  },
  {
   "cell_type": "code",
   "execution_count": 15,
   "id": "2082c432",
   "metadata": {},
   "outputs": [
    {
     "data": {
      "text/plain": [
       "{'a': []}"
      ]
     },
     "execution_count": 15,
     "metadata": {},
     "output_type": "execute_result"
    }
   ],
   "source": [
    "d"
   ]
  },
  {
   "cell_type": "code",
   "execution_count": 20,
   "id": "3ce14918",
   "metadata": {},
   "outputs": [],
   "source": [
    "d['a'] = [5]"
   ]
  },
  {
   "cell_type": "code",
   "execution_count": 21,
   "id": "71d4725d",
   "metadata": {},
   "outputs": [
    {
     "name": "stdout",
     "output_type": "stream",
     "text": [
      "a\n"
     ]
    }
   ],
   "source": [
    "if d.get('a'):\n",
    "    print('a')"
   ]
  },
  {
   "cell_type": "code",
   "execution_count": 23,
   "id": "b52c0ab3",
   "metadata": {},
   "outputs": [],
   "source": [
    "d['a'].append(8)"
   ]
  },
  {
   "cell_type": "code",
   "execution_count": 24,
   "id": "2fe5ade8",
   "metadata": {},
   "outputs": [
    {
     "data": {
      "text/plain": [
       "[5, 8]"
      ]
     },
     "execution_count": 24,
     "metadata": {},
     "output_type": "execute_result"
    }
   ],
   "source": [
    "d['a']"
   ]
  },
  {
   "cell_type": "code",
   "execution_count": 26,
   "id": "3311472f",
   "metadata": {},
   "outputs": [],
   "source": [
    "d['a'] += [4]"
   ]
  },
  {
   "cell_type": "code",
   "execution_count": 27,
   "id": "0d008aef",
   "metadata": {},
   "outputs": [
    {
     "data": {
      "text/plain": [
       "[5, 8, 4]"
      ]
     },
     "execution_count": 27,
     "metadata": {},
     "output_type": "execute_result"
    }
   ],
   "source": [
    "d['a']"
   ]
  },
  {
   "cell_type": "code",
   "execution_count": 30,
   "id": "b4175b02",
   "metadata": {},
   "outputs": [
    {
     "data": {
      "text/plain": [
       "['a']"
      ]
     },
     "execution_count": 30,
     "metadata": {},
     "output_type": "execute_result"
    }
   ],
   "source": [
    "list(d.keys())"
   ]
  },
  {
   "cell_type": "code",
   "execution_count": 31,
   "id": "9d45c793",
   "metadata": {},
   "outputs": [
    {
     "name": "stdout",
     "output_type": "stream",
     "text": [
      "a\n"
     ]
    }
   ],
   "source": [
    "for i in list(d.keys()):\n",
    "    print(i)"
   ]
  },
  {
   "cell_type": "code",
   "execution_count": 36,
   "id": "93a00434",
   "metadata": {},
   "outputs": [
    {
     "data": {
      "text/plain": [
       "[5, 8, 4]"
      ]
     },
     "execution_count": 36,
     "metadata": {},
     "output_type": "execute_result"
    }
   ],
   "source": [
    "d.get('a')"
   ]
  },
  {
   "cell_type": "code",
   "execution_count": 37,
   "id": "43abfe33",
   "metadata": {},
   "outputs": [
    {
     "data": {
      "text/plain": [
       "range(0, 0)"
      ]
     },
     "execution_count": 37,
     "metadata": {},
     "output_type": "execute_result"
    }
   ],
   "source": [
    "range(0)"
   ]
  },
  {
   "cell_type": "code",
   "execution_count": 40,
   "id": "eb4a5084",
   "metadata": {},
   "outputs": [
    {
     "name": "stdout",
     "output_type": "stream",
     "text": [
      "0\n"
     ]
    }
   ],
   "source": [
    "for i in range(1):\n",
    "    print(i)"
   ]
  },
  {
   "cell_type": "code",
   "execution_count": 41,
   "id": "669cd1bd",
   "metadata": {},
   "outputs": [],
   "source": [
    "s = ['a']"
   ]
  },
  {
   "cell_type": "code",
   "execution_count": 44,
   "id": "1aa81c83",
   "metadata": {},
   "outputs": [],
   "source": [
    "for i in range(len(s) - 1):\n",
    "    print(s[i])"
   ]
  },
  {
   "cell_type": "code",
   "execution_count": 45,
   "id": "6e839550",
   "metadata": {},
   "outputs": [],
   "source": [
    "s = ''"
   ]
  },
  {
   "cell_type": "code",
   "execution_count": 47,
   "id": "f2a122a9",
   "metadata": {},
   "outputs": [],
   "source": [
    "s += 'a'"
   ]
  },
  {
   "cell_type": "code",
   "execution_count": 48,
   "id": "ca970375",
   "metadata": {},
   "outputs": [
    {
     "data": {
      "text/plain": [
       "'a'"
      ]
     },
     "execution_count": 48,
     "metadata": {},
     "output_type": "execute_result"
    }
   ],
   "source": [
    "s"
   ]
  },
  {
   "cell_type": "code",
   "execution_count": 49,
   "id": "09712559",
   "metadata": {},
   "outputs": [
    {
     "ename": "TypeError",
     "evalue": "unsupported operand type(s) for -=: 'str' and 'str'",
     "output_type": "error",
     "traceback": [
      "\u001b[0;31m---------------------------------------------------------------------------\u001b[0m",
      "\u001b[0;31mTypeError\u001b[0m                                 Traceback (most recent call last)",
      "\u001b[0;32m<ipython-input-49-cf78de7a7e9d>\u001b[0m in \u001b[0;36m<module>\u001b[0;34m\u001b[0m\n\u001b[0;32m----> 1\u001b[0;31m \u001b[0ms\u001b[0m \u001b[0;34m-=\u001b[0m \u001b[0;34m'b'\u001b[0m\u001b[0;34m\u001b[0m\u001b[0;34m\u001b[0m\u001b[0m\n\u001b[0m",
      "\u001b[0;31mTypeError\u001b[0m: unsupported operand type(s) for -=: 'str' and 'str'"
     ]
    }
   ],
   "source": [
    "s -= 'b'"
   ]
  },
  {
   "cell_type": "code",
   "execution_count": 50,
   "id": "95d21f84",
   "metadata": {},
   "outputs": [
    {
     "data": {
      "text/plain": [
       "{'a': [5, 8, 4]}"
      ]
     },
     "execution_count": 50,
     "metadata": {},
     "output_type": "execute_result"
    }
   ],
   "source": [
    "d"
   ]
  },
  {
   "cell_type": "code",
   "execution_count": 125,
   "id": "f8a48b41",
   "metadata": {},
   "outputs": [
    {
     "data": {
      "text/plain": [
       "[5, 8, 4]"
      ]
     },
     "execution_count": 125,
     "metadata": {},
     "output_type": "execute_result"
    }
   ],
   "source": [
    "d.get('a')"
   ]
  },
  {
   "cell_type": "code",
   "execution_count": null,
   "id": "a05b2261",
   "metadata": {},
   "outputs": [],
   "source": []
  }
 ],
 "metadata": {
  "kernelspec": {
   "display_name": "Python 3",
   "language": "python",
   "name": "python3"
  },
  "language_info": {
   "codemirror_mode": {
    "name": "ipython",
    "version": 3
   },
   "file_extension": ".py",
   "mimetype": "text/x-python",
   "name": "python",
   "nbconvert_exporter": "python",
   "pygments_lexer": "ipython3",
   "version": "3.8.8"
  }
 },
 "nbformat": 4,
 "nbformat_minor": 5
}
